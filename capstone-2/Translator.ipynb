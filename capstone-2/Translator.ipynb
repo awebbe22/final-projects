{
 "cells": [
  {
   "cell_type": "code",
   "execution_count": 14,
   "id": "b84fc932",
   "metadata": {},
   "outputs": [],
   "source": [
    "#Import packages\n",
    "\n",
    "import pandas as pd\n",
    "import csv"
   ]
  },
  {
   "cell_type": "code",
   "execution_count": 2,
   "id": "ff2a9a9a",
   "metadata": {},
   "outputs": [],
   "source": [
    "#Read in .csv\n",
    "raw_data = pd.read_csv('data_raw.csv')"
   ]
  },
  {
   "cell_type": "code",
   "execution_count": 3,
   "id": "0a52d186",
   "metadata": {},
   "outputs": [
    {
     "data": {
      "text/html": [
       "<div>\n",
       "<style scoped>\n",
       "    .dataframe tbody tr th:only-of-type {\n",
       "        vertical-align: middle;\n",
       "    }\n",
       "\n",
       "    .dataframe tbody tr th {\n",
       "        vertical-align: top;\n",
       "    }\n",
       "\n",
       "    .dataframe thead th {\n",
       "        text-align: right;\n",
       "    }\n",
       "</style>\n",
       "<table border=\"1\" class=\"dataframe\">\n",
       "  <thead>\n",
       "    <tr style=\"text-align: right;\">\n",
       "      <th></th>\n",
       "      <th>Unnamed: 0</th>\n",
       "      <th>name</th>\n",
       "      <th>price</th>\n",
       "      <th>location</th>\n",
       "      <th>offerer</th>\n",
       "      <th>link</th>\n",
       "      <th>id</th>\n",
       "      <th>img_url</th>\n",
       "      <th>listing_url</th>\n",
       "      <th>description</th>\n",
       "      <th>Jahr</th>\n",
       "      <th>Hersteller</th>\n",
       "      <th>Modell</th>\n",
       "      <th>Klasse</th>\n",
       "      <th>Länge</th>\n",
       "      <th>Treibstoff</th>\n",
       "      <th>Rumpfmaterial</th>\n",
       "      <th>Rumpfform</th>\n",
       "      <th>HIN</th>\n",
       "      <th>Rumpfgarantie</th>\n",
       "    </tr>\n",
       "  </thead>\n",
       "  <tbody>\n",
       "    <tr>\n",
       "      <th>0</th>\n",
       "      <td>0</td>\n",
       "      <td>1976 Ketch Baarda Zeegrundel1976 Ketch Baarda ...</td>\n",
       "      <td>24.500 €</td>\n",
       "      <td>Dinteloord, Niederlande</td>\n",
       "      <td>Sealion Yachts</td>\n",
       "      <td>/boot/1976-ketch-baarda-zeegrundel-8222682/</td>\n",
       "      <td>8222682</td>\n",
       "      <td>https://images.boatsgroup.com/resize/1/26/82/8...</td>\n",
       "      <td>https://www.boot24.com/boot/1976-ketch-baarda-...</td>\n",
       "      <td>Algemeen: De Zeegrundel is een oorspronkelijk ...</td>\n",
       "      <td>1976</td>\n",
       "      <td>Ketch</td>\n",
       "      <td>Baarda Zeegrundel</td>\n",
       "      <td>Lastkahnsegelboote</td>\n",
       "      <td>900m</td>\n",
       "      <td>Diesel</td>\n",
       "      <td>Stahl</td>\n",
       "      <td>NaN</td>\n",
       "      <td>NaN</td>\n",
       "      <td>NaN</td>\n",
       "    </tr>\n",
       "    <tr>\n",
       "      <th>1</th>\n",
       "      <td>1</td>\n",
       "      <td>1979 Dufour 28001979 Dufour 2800</td>\n",
       "      <td>9.900 €</td>\n",
       "      <td>Greifswald, Deutschland</td>\n",
       "      <td>Privater Verkäufer</td>\n",
       "      <td>/boot/1979-dufour-2800-8457402/</td>\n",
       "      <td>8457402</td>\n",
       "      <td>NaN</td>\n",
       "      <td>https://www.boot24.com/boot/1979-dufour-2800-8...</td>\n",
       "      <td>Verkaufe eine gut erhaltene und ausgestattete ...</td>\n",
       "      <td>1979</td>\n",
       "      <td>Dufour</td>\n",
       "      <td>2800</td>\n",
       "      <td>Segelboote mit Kajüte</td>\n",
       "      <td>83m</td>\n",
       "      <td>Diesel</td>\n",
       "      <td>GFK / Fiberglass / Polyester</td>\n",
       "      <td>NaN</td>\n",
       "      <td>NaN</td>\n",
       "      <td>NaN</td>\n",
       "    </tr>\n",
       "    <tr>\n",
       "      <th>2</th>\n",
       "      <td>2</td>\n",
       "      <td>2010 Van der Graaf Classic Schooner2010 Van de...</td>\n",
       "      <td>12.000.000 €</td>\n",
       "      <td>Contact De Valk Antibes, Frankreich</td>\n",
       "      <td>De Valk Group B.V</td>\n",
       "      <td>/boot/2010-van-der-graaf-classic-schooner-7936...</td>\n",
       "      <td>7936534</td>\n",
       "      <td>NaN</td>\n",
       "      <td>https://www.boot24.com/boot/2010-van-der-graaf...</td>\n",
       "      <td>Model: VAN DER GRAAF CLASSIC SCHOONER Type: sa...</td>\n",
       "      <td>2010</td>\n",
       "      <td>Van der Graaf</td>\n",
       "      <td>Classic Schooner</td>\n",
       "      <td>Slup Boote</td>\n",
       "      <td>65,84m</td>\n",
       "      <td>Diesel</td>\n",
       "      <td>Stahl</td>\n",
       "      <td>NaN</td>\n",
       "      <td>NaN</td>\n",
       "      <td>NaN</td>\n",
       "    </tr>\n",
       "    <tr>\n",
       "      <th>3</th>\n",
       "      <td>3</td>\n",
       "      <td>2010 Custom Van Der Graaf BV Schooner2010 Cust...</td>\n",
       "      <td>12.000.000 €</td>\n",
       "      <td>IMPERIA, Italien</td>\n",
       "      <td>Bernard Gallay Yacht Brokerage</td>\n",
       "      <td>/boot/2010-custom-van-der-graaf-bv-schooner-67...</td>\n",
       "      <td>6751543</td>\n",
       "      <td>https://images.boatsgroup.com/resize/1/15/43/6...</td>\n",
       "      <td>https://www.boot24.com/boot/2010-custom-van-de...</td>\n",
       "      <td>Price On Application\\n \\nThe current ATLANTIC ...</td>\n",
       "      <td>2010</td>\n",
       "      <td>Custom</td>\n",
       "      <td>Van Der Graaf BV Schooner</td>\n",
       "      <td>Schoner</td>\n",
       "      <td>64,50m</td>\n",
       "      <td>Diesel</td>\n",
       "      <td>Stahl</td>\n",
       "      <td>NaN</td>\n",
       "      <td>NaN</td>\n",
       "      <td>NaN</td>\n",
       "    </tr>\n",
       "    <tr>\n",
       "      <th>4</th>\n",
       "      <td>4</td>\n",
       "      <td>2008 Custom Build Gulet2008 Custom Build Gulet</td>\n",
       "      <td>5.000.000 €</td>\n",
       "      <td>Türkei</td>\n",
       "      <td>Gino Group</td>\n",
       "      <td>/boot/2008-custom-build-gulet-469955/</td>\n",
       "      <td>469955</td>\n",
       "      <td>https://images.boatsgroup.com/resize/1/99/55/4...</td>\n",
       "      <td>https://www.boot24.com/boot/2008-custom-build-...</td>\n",
       "      <td>A beautiful 43m Gulet classic luxury style bui...</td>\n",
       "      <td>2008</td>\n",
       "      <td>Custom Build</td>\n",
       "      <td>Gulet</td>\n",
       "      <td>Segelyachten</td>\n",
       "      <td>42,98m</td>\n",
       "      <td>Diesel</td>\n",
       "      <td>Holz</td>\n",
       "      <td>NaN</td>\n",
       "      <td>NaN</td>\n",
       "      <td>NaN</td>\n",
       "    </tr>\n",
       "  </tbody>\n",
       "</table>\n",
       "</div>"
      ],
      "text/plain": [
       "   Unnamed: 0                                               name  \\\n",
       "0           0  1976 Ketch Baarda Zeegrundel1976 Ketch Baarda ...   \n",
       "1           1                   1979 Dufour 28001979 Dufour 2800   \n",
       "2           2  2010 Van der Graaf Classic Schooner2010 Van de...   \n",
       "3           3  2010 Custom Van Der Graaf BV Schooner2010 Cust...   \n",
       "4           4     2008 Custom Build Gulet2008 Custom Build Gulet   \n",
       "\n",
       "          price                             location  \\\n",
       "0      24.500 €              Dinteloord, Niederlande   \n",
       "1       9.900 €              Greifswald, Deutschland   \n",
       "2  12.000.000 €  Contact De Valk Antibes, Frankreich   \n",
       "3  12.000.000 €                     IMPERIA, Italien   \n",
       "4   5.000.000 €                               Türkei   \n",
       "\n",
       "                          offerer  \\\n",
       "0                  Sealion Yachts   \n",
       "1              Privater Verkäufer   \n",
       "2               De Valk Group B.V   \n",
       "3  Bernard Gallay Yacht Brokerage   \n",
       "4                      Gino Group   \n",
       "\n",
       "                                                link       id  \\\n",
       "0        /boot/1976-ketch-baarda-zeegrundel-8222682/  8222682   \n",
       "1                    /boot/1979-dufour-2800-8457402/  8457402   \n",
       "2  /boot/2010-van-der-graaf-classic-schooner-7936...  7936534   \n",
       "3  /boot/2010-custom-van-der-graaf-bv-schooner-67...  6751543   \n",
       "4              /boot/2008-custom-build-gulet-469955/   469955   \n",
       "\n",
       "                                             img_url  \\\n",
       "0  https://images.boatsgroup.com/resize/1/26/82/8...   \n",
       "1                                                NaN   \n",
       "2                                                NaN   \n",
       "3  https://images.boatsgroup.com/resize/1/15/43/6...   \n",
       "4  https://images.boatsgroup.com/resize/1/99/55/4...   \n",
       "\n",
       "                                         listing_url  \\\n",
       "0  https://www.boot24.com/boot/1976-ketch-baarda-...   \n",
       "1  https://www.boot24.com/boot/1979-dufour-2800-8...   \n",
       "2  https://www.boot24.com/boot/2010-van-der-graaf...   \n",
       "3  https://www.boot24.com/boot/2010-custom-van-de...   \n",
       "4  https://www.boot24.com/boot/2008-custom-build-...   \n",
       "\n",
       "                                         description  Jahr     Hersteller  \\\n",
       "0  Algemeen: De Zeegrundel is een oorspronkelijk ...  1976          Ketch   \n",
       "1  Verkaufe eine gut erhaltene und ausgestattete ...  1979         Dufour   \n",
       "2  Model: VAN DER GRAAF CLASSIC SCHOONER Type: sa...  2010  Van der Graaf   \n",
       "3  Price On Application\\n \\nThe current ATLANTIC ...  2010         Custom   \n",
       "4  A beautiful 43m Gulet classic luxury style bui...  2008   Custom Build   \n",
       "\n",
       "                      Modell                 Klasse   Länge Treibstoff  \\\n",
       "0          Baarda Zeegrundel     Lastkahnsegelboote    900m     Diesel   \n",
       "1                       2800  Segelboote mit Kajüte     83m     Diesel   \n",
       "2           Classic Schooner             Slup Boote  65,84m     Diesel   \n",
       "3  Van Der Graaf BV Schooner                Schoner  64,50m     Diesel   \n",
       "4                      Gulet           Segelyachten  42,98m     Diesel   \n",
       "\n",
       "                  Rumpfmaterial Rumpfform  HIN Rumpfgarantie  \n",
       "0                         Stahl       NaN  NaN           NaN  \n",
       "1  GFK / Fiberglass / Polyester       NaN  NaN           NaN  \n",
       "2                         Stahl       NaN  NaN           NaN  \n",
       "3                         Stahl       NaN  NaN           NaN  \n",
       "4                          Holz       NaN  NaN           NaN  "
      ]
     },
     "execution_count": 3,
     "metadata": {},
     "output_type": "execute_result"
    }
   ],
   "source": [
    "#Check everything\n",
    "raw_data.head()"
   ]
  },
  {
   "cell_type": "code",
   "execution_count": 4,
   "id": "c05d7e0f",
   "metadata": {},
   "outputs": [
    {
     "data": {
      "text/plain": [
       "array(['barge sail boat', 'sailing boats with cabin', 'sloop boats',\n",
       "       'cleaner', 'sailing yachts', 'catamaran', 'sonstige (segelboote)',\n",
       "       'catamaran und trimming', 'classic sailboats',\n",
       "       'racer/cruiser sailboats', 'deck saloon sailboats',\n",
       "       'motorsegler (segel)', 'kommerzielle schiffe (segel)',\n",
       "       'gulets (segel)', 'ketch sailing boats', 'daysailers', 'cutter',\n",
       "       'racer sailboats', 'sailboats with a center cockpit',\n",
       "       'dinghy sailing boats', 'trimming', 'dinghies and dinghy cruisers',\n",
       "       'nicht spezifizierte (segelboote)', 'performance sailboats'],\n",
       "      dtype=object)"
      ]
     },
     "execution_count": 4,
     "metadata": {},
     "output_type": "execute_result"
    }
   ],
   "source": [
    "#Rename/translate columns \n",
    "raw_data.rename(columns={'Jahr': 'year', 'Hersteller': 'manufacturer', 'Modell': 'model', 'Klasse': 'class', 'Länge': 'length', 'Treibstoff': 'fuel', 'Rumpfmaterial': 'hull_material', 'Rumpfform': 'hull_shape', 'Rumpfgarantie': 'hull_warranty', 'HIN': 'hull_id_number'}, inplace=True)\n",
    "raw_data.columns\n",
    "\n",
    "#Rename/translate class column \n",
    "german_classes = ['Lastkahnsegelboote', 'Segelboote mit Kajüte', 'Slup Boote',\n",
    "       'Schoner', 'Segelyachten', 'Katamarane', 'Sonstige (Segelboote)',\n",
    "       'Katamarane und Trimarane', 'Klassische Segelboote',\n",
    "       'Racer/ Cruiser Segelboote', 'Decksalon Segelboote',\n",
    "       'Motorsegler (Segel)', 'Kommerzielle Schiffe (Segel)',\n",
    "       'Gulets (Segel)', 'Ketsch Segelboote', 'Kutter',\n",
    "       'Racer Segelboote', 'Segelboote mit Center Cockpit',\n",
    "       'Dinghy Segelboote', 'Trimarane', 'Jollen und Jollenkreuzer',\n",
    "       'Strandkatamarane', 'Nicht Spezifizierte (Segelboote)',\n",
    "       'Performance Segelboote']\n",
    "english_classes = ['Barge sail boat','Sailing boats with cabin', 'sloop boats', 'Cleaner', 'sailing yachts', 'catamaran', 'Other (sailboats)', 'Catamarans and Trimarans', 'Classic sailboats', 'Racer/cruiser sailboats', 'Deck saloon sailboats', 'motor glider (sail)', 'Commercial ships (sails)', 'Gulets (Sail)', 'Ketch sailing boats', 'Cutter', 'Racer sailboats', 'Sailboats with a center cockpit', 'Dinghy sailing boats', 'Trimming', 'Dinghies and dinghy cruisers', 'Catamaran', 'Unspecified (Sailboats)', 'Performance sailboats']\n",
    "raw_data['class'] = raw_data['class'].replace(german_classes, english_classes, regex=True)\n",
    "raw_data['class'] = raw_data['class'].str.lower()\n",
    "raw_data['class'].unique()"
   ]
  },
  {
   "cell_type": "code",
   "execution_count": 5,
   "id": "cd72d741",
   "metadata": {},
   "outputs": [
    {
     "data": {
      "text/plain": [
       "array([nan, 'catamaran', 'other', 'monohull', 'displacement',\n",
       "       'semi-displacement', 'glider', 'trimaran', 'deep-v', 'tunnel'],\n",
       "      dtype=object)"
      ]
     },
     "execution_count": 5,
     "metadata": {},
     "output_type": "execute_result"
    }
   ],
   "source": [
    "#Rename/translate class column \n",
    "german_hull_shapes = ['Katamaran', 'Anderes', 'Monohull ', 'Verdränger', 'Halbgleiter',\n",
    " 'Gleiter', 'Trimaran', 'Deep Vee', 'Tunnel']\n",
    "english_hull_shapes = ['catamaran', 'other', 'monohull', 'displacement', 'semi-displacement',\n",
    " 'Glider', 'trimaran', 'deep-v', 'tunnel']\n",
    "raw_data['hull_shape'] = raw_data['hull_shape'].replace(german_hull_shapes, english_hull_shapes, regex=True)\n",
    "raw_data['hull_shape'] = raw_data['hull_shape'].str.lower()\n",
    "raw_data['hull_shape'].unique()"
   ]
  },
  {
   "cell_type": "code",
   "execution_count": 6,
   "id": "c6598d39",
   "metadata": {},
   "outputs": [
    {
     "data": {
      "text/plain": [
       "array(['steel', 'gfk / fiberglass / polyester', 'wood', 'composite',\n",
       "       'concrete', 'aluminium', 'other', 'pvc (kunststoff)'], dtype=object)"
      ]
     },
     "execution_count": 6,
     "metadata": {},
     "output_type": "execute_result"
    }
   ],
   "source": [
    "#Rename/translate hull_material column \n",
    "german_hull_material = ['Stahl', 'Holz', 'Komposit',\n",
    "       'Ferrozement', 'Aluminium', 'Anderen Materialien',\n",
    "       'PVC (Kunststoff)']\n",
    "english_hull_material = ['steel', 'wood', 'composite',\n",
    "       'concrete', 'aluminium', 'other',\n",
    "       'PVC (Kunststoff)']\n",
    "raw_data['hull_material'] = raw_data['hull_material'].replace(german_hull_material, english_hull_material, regex=True)\n",
    "raw_data['hull_material'] = raw_data['hull_material'].str.lower()\n",
    "raw_data['hull_material'].unique()"
   ]
  },
  {
   "cell_type": "code",
   "execution_count": 7,
   "id": "8564d48f",
   "metadata": {},
   "outputs": [
    {
     "data": {
      "text/plain": [
       "array(['diesel', 'other', nan, 'electric', 'petrol'], dtype=object)"
      ]
     },
     "execution_count": 7,
     "metadata": {},
     "output_type": "execute_result"
    }
   ],
   "source": [
    "#Rename/translate fuel column \n",
    "german_fuel = ['Diesel', 'Anderes', 'Elektrisch', 'Benzin']\n",
    "english_fuel = ['Diesel', 'other', 'electric', 'petrol']\n",
    "raw_data['fuel'] = raw_data['fuel'].replace(german_fuel, english_fuel, regex=True)\n",
    "raw_data['fuel'] = raw_data['fuel'].str.lower()\n",
    "raw_data['fuel'].unique()"
   ]
  },
  {
   "cell_type": "code",
   "execution_count": null,
   "id": "d2f28213",
   "metadata": {},
   "outputs": [],
   "source": []
  },
  {
   "cell_type": "code",
   "execution_count": null,
   "id": "a10dd66c",
   "metadata": {},
   "outputs": [],
   "source": []
  },
  {
   "cell_type": "code",
   "execution_count": null,
   "id": "a4025483",
   "metadata": {},
   "outputs": [],
   "source": []
  },
  {
   "cell_type": "code",
   "execution_count": null,
   "id": "3f7f1e25",
   "metadata": {},
   "outputs": [],
   "source": []
  },
  {
   "cell_type": "code",
   "execution_count": null,
   "id": "2e8d62c2",
   "metadata": {},
   "outputs": [],
   "source": []
  },
  {
   "cell_type": "code",
   "execution_count": null,
   "id": "de1d4958",
   "metadata": {},
   "outputs": [],
   "source": []
  },
  {
   "cell_type": "code",
   "execution_count": 16,
   "id": "b6216f00",
   "metadata": {},
   "outputs": [],
   "source": [
    "# save the data to a new csv file\n",
    "filename = 'translated_data.csv'\n",
    "raw_data.to_csv(filename, index=False)"
   ]
  },
  {
   "cell_type": "code",
   "execution_count": null,
   "id": "8b18ff41",
   "metadata": {},
   "outputs": [],
   "source": []
  }
 ],
 "metadata": {
  "kernelspec": {
   "display_name": "Python 3 (ipykernel)",
   "language": "python",
   "name": "python3"
  },
  "language_info": {
   "codemirror_mode": {
    "name": "ipython",
    "version": 3
   },
   "file_extension": ".py",
   "mimetype": "text/x-python",
   "name": "python",
   "nbconvert_exporter": "python",
   "pygments_lexer": "ipython3",
   "version": "3.9.13"
  }
 },
 "nbformat": 4,
 "nbformat_minor": 5
}
