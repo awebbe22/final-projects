{
 "cells": [
  {
   "cell_type": "code",
   "execution_count": 1,
   "id": "b84fc932",
   "metadata": {},
   "outputs": [],
   "source": [
    "#Import packages\n",
    "\n",
    "import pandas as pd\n",
    "import csv\n",
    "from googletrans import Translator"
   ]
  },
  {
   "cell_type": "code",
   "execution_count": 2,
   "id": "ff2a9a9a",
   "metadata": {},
   "outputs": [],
   "source": [
    "#Read in .csv\n",
    "raw_data = pd.read_csv('data_raw.csv')"
   ]
  },
  {
   "cell_type": "code",
   "execution_count": 3,
   "id": "0a52d186",
   "metadata": {},
   "outputs": [
    {
     "data": {
      "text/html": [
       "<div>\n",
       "<style scoped>\n",
       "    .dataframe tbody tr th:only-of-type {\n",
       "        vertical-align: middle;\n",
       "    }\n",
       "\n",
       "    .dataframe tbody tr th {\n",
       "        vertical-align: top;\n",
       "    }\n",
       "\n",
       "    .dataframe thead th {\n",
       "        text-align: right;\n",
       "    }\n",
       "</style>\n",
       "<table border=\"1\" class=\"dataframe\">\n",
       "  <thead>\n",
       "    <tr style=\"text-align: right;\">\n",
       "      <th></th>\n",
       "      <th>Unnamed: 0</th>\n",
       "      <th>name</th>\n",
       "      <th>price</th>\n",
       "      <th>location</th>\n",
       "      <th>offerer</th>\n",
       "      <th>link</th>\n",
       "      <th>id</th>\n",
       "      <th>img_url</th>\n",
       "      <th>listing_url</th>\n",
       "      <th>description</th>\n",
       "      <th>Jahr</th>\n",
       "      <th>Hersteller</th>\n",
       "      <th>Modell</th>\n",
       "      <th>Klasse</th>\n",
       "      <th>Länge</th>\n",
       "      <th>Treibstoff</th>\n",
       "      <th>Rumpfmaterial</th>\n",
       "      <th>Rumpfform</th>\n",
       "      <th>HIN</th>\n",
       "      <th>Rumpfgarantie</th>\n",
       "    </tr>\n",
       "  </thead>\n",
       "  <tbody>\n",
       "    <tr>\n",
       "      <th>0</th>\n",
       "      <td>0</td>\n",
       "      <td>1976 Ketch Baarda Zeegrundel1976 Ketch Baarda ...</td>\n",
       "      <td>24.500 €</td>\n",
       "      <td>Dinteloord, Niederlande</td>\n",
       "      <td>Sealion Yachts</td>\n",
       "      <td>/boot/1976-ketch-baarda-zeegrundel-8222682/</td>\n",
       "      <td>8222682</td>\n",
       "      <td>https://images.boatsgroup.com/resize/1/26/82/8...</td>\n",
       "      <td>https://www.boot24.com/boot/1976-ketch-baarda-...</td>\n",
       "      <td>Algemeen: De Zeegrundel is een oorspronkelijk ...</td>\n",
       "      <td>1976</td>\n",
       "      <td>Ketch</td>\n",
       "      <td>Baarda Zeegrundel</td>\n",
       "      <td>Lastkahnsegelboote</td>\n",
       "      <td>900m</td>\n",
       "      <td>Diesel</td>\n",
       "      <td>Stahl</td>\n",
       "      <td>NaN</td>\n",
       "      <td>NaN</td>\n",
       "      <td>NaN</td>\n",
       "    </tr>\n",
       "    <tr>\n",
       "      <th>1</th>\n",
       "      <td>1</td>\n",
       "      <td>1979 Dufour 28001979 Dufour 2800</td>\n",
       "      <td>9.900 €</td>\n",
       "      <td>Greifswald, Deutschland</td>\n",
       "      <td>Privater Verkäufer</td>\n",
       "      <td>/boot/1979-dufour-2800-8457402/</td>\n",
       "      <td>8457402</td>\n",
       "      <td>NaN</td>\n",
       "      <td>https://www.boot24.com/boot/1979-dufour-2800-8...</td>\n",
       "      <td>Verkaufe eine gut erhaltene und ausgestattete ...</td>\n",
       "      <td>1979</td>\n",
       "      <td>Dufour</td>\n",
       "      <td>2800</td>\n",
       "      <td>Segelboote mit Kajüte</td>\n",
       "      <td>83m</td>\n",
       "      <td>Diesel</td>\n",
       "      <td>GFK / Fiberglass / Polyester</td>\n",
       "      <td>NaN</td>\n",
       "      <td>NaN</td>\n",
       "      <td>NaN</td>\n",
       "    </tr>\n",
       "    <tr>\n",
       "      <th>2</th>\n",
       "      <td>2</td>\n",
       "      <td>2010 Van der Graaf Classic Schooner2010 Van de...</td>\n",
       "      <td>12.000.000 €</td>\n",
       "      <td>Contact De Valk Antibes, Frankreich</td>\n",
       "      <td>De Valk Group B.V</td>\n",
       "      <td>/boot/2010-van-der-graaf-classic-schooner-7936...</td>\n",
       "      <td>7936534</td>\n",
       "      <td>NaN</td>\n",
       "      <td>https://www.boot24.com/boot/2010-van-der-graaf...</td>\n",
       "      <td>Model: VAN DER GRAAF CLASSIC SCHOONER Type: sa...</td>\n",
       "      <td>2010</td>\n",
       "      <td>Van der Graaf</td>\n",
       "      <td>Classic Schooner</td>\n",
       "      <td>Slup Boote</td>\n",
       "      <td>65,84m</td>\n",
       "      <td>Diesel</td>\n",
       "      <td>Stahl</td>\n",
       "      <td>NaN</td>\n",
       "      <td>NaN</td>\n",
       "      <td>NaN</td>\n",
       "    </tr>\n",
       "    <tr>\n",
       "      <th>3</th>\n",
       "      <td>3</td>\n",
       "      <td>2010 Custom Van Der Graaf BV Schooner2010 Cust...</td>\n",
       "      <td>12.000.000 €</td>\n",
       "      <td>IMPERIA, Italien</td>\n",
       "      <td>Bernard Gallay Yacht Brokerage</td>\n",
       "      <td>/boot/2010-custom-van-der-graaf-bv-schooner-67...</td>\n",
       "      <td>6751543</td>\n",
       "      <td>https://images.boatsgroup.com/resize/1/15/43/6...</td>\n",
       "      <td>https://www.boot24.com/boot/2010-custom-van-de...</td>\n",
       "      <td>Price On Application\\n \\nThe current ATLANTIC ...</td>\n",
       "      <td>2010</td>\n",
       "      <td>Custom</td>\n",
       "      <td>Van Der Graaf BV Schooner</td>\n",
       "      <td>Schoner</td>\n",
       "      <td>64,50m</td>\n",
       "      <td>Diesel</td>\n",
       "      <td>Stahl</td>\n",
       "      <td>NaN</td>\n",
       "      <td>NaN</td>\n",
       "      <td>NaN</td>\n",
       "    </tr>\n",
       "    <tr>\n",
       "      <th>4</th>\n",
       "      <td>4</td>\n",
       "      <td>2008 Custom Build Gulet2008 Custom Build Gulet</td>\n",
       "      <td>5.000.000 €</td>\n",
       "      <td>Türkei</td>\n",
       "      <td>Gino Group</td>\n",
       "      <td>/boot/2008-custom-build-gulet-469955/</td>\n",
       "      <td>469955</td>\n",
       "      <td>https://images.boatsgroup.com/resize/1/99/55/4...</td>\n",
       "      <td>https://www.boot24.com/boot/2008-custom-build-...</td>\n",
       "      <td>A beautiful 43m Gulet classic luxury style bui...</td>\n",
       "      <td>2008</td>\n",
       "      <td>Custom Build</td>\n",
       "      <td>Gulet</td>\n",
       "      <td>Segelyachten</td>\n",
       "      <td>42,98m</td>\n",
       "      <td>Diesel</td>\n",
       "      <td>Holz</td>\n",
       "      <td>NaN</td>\n",
       "      <td>NaN</td>\n",
       "      <td>NaN</td>\n",
       "    </tr>\n",
       "  </tbody>\n",
       "</table>\n",
       "</div>"
      ],
      "text/plain": [
       "   Unnamed: 0                                               name  \\\n",
       "0           0  1976 Ketch Baarda Zeegrundel1976 Ketch Baarda ...   \n",
       "1           1                   1979 Dufour 28001979 Dufour 2800   \n",
       "2           2  2010 Van der Graaf Classic Schooner2010 Van de...   \n",
       "3           3  2010 Custom Van Der Graaf BV Schooner2010 Cust...   \n",
       "4           4     2008 Custom Build Gulet2008 Custom Build Gulet   \n",
       "\n",
       "          price                             location  \\\n",
       "0      24.500 €              Dinteloord, Niederlande   \n",
       "1       9.900 €              Greifswald, Deutschland   \n",
       "2  12.000.000 €  Contact De Valk Antibes, Frankreich   \n",
       "3  12.000.000 €                     IMPERIA, Italien   \n",
       "4   5.000.000 €                               Türkei   \n",
       "\n",
       "                          offerer  \\\n",
       "0                  Sealion Yachts   \n",
       "1              Privater Verkäufer   \n",
       "2               De Valk Group B.V   \n",
       "3  Bernard Gallay Yacht Brokerage   \n",
       "4                      Gino Group   \n",
       "\n",
       "                                                link       id  \\\n",
       "0        /boot/1976-ketch-baarda-zeegrundel-8222682/  8222682   \n",
       "1                    /boot/1979-dufour-2800-8457402/  8457402   \n",
       "2  /boot/2010-van-der-graaf-classic-schooner-7936...  7936534   \n",
       "3  /boot/2010-custom-van-der-graaf-bv-schooner-67...  6751543   \n",
       "4              /boot/2008-custom-build-gulet-469955/   469955   \n",
       "\n",
       "                                             img_url  \\\n",
       "0  https://images.boatsgroup.com/resize/1/26/82/8...   \n",
       "1                                                NaN   \n",
       "2                                                NaN   \n",
       "3  https://images.boatsgroup.com/resize/1/15/43/6...   \n",
       "4  https://images.boatsgroup.com/resize/1/99/55/4...   \n",
       "\n",
       "                                         listing_url  \\\n",
       "0  https://www.boot24.com/boot/1976-ketch-baarda-...   \n",
       "1  https://www.boot24.com/boot/1979-dufour-2800-8...   \n",
       "2  https://www.boot24.com/boot/2010-van-der-graaf...   \n",
       "3  https://www.boot24.com/boot/2010-custom-van-de...   \n",
       "4  https://www.boot24.com/boot/2008-custom-build-...   \n",
       "\n",
       "                                         description  Jahr     Hersteller  \\\n",
       "0  Algemeen: De Zeegrundel is een oorspronkelijk ...  1976          Ketch   \n",
       "1  Verkaufe eine gut erhaltene und ausgestattete ...  1979         Dufour   \n",
       "2  Model: VAN DER GRAAF CLASSIC SCHOONER Type: sa...  2010  Van der Graaf   \n",
       "3  Price On Application\\n \\nThe current ATLANTIC ...  2010         Custom   \n",
       "4  A beautiful 43m Gulet classic luxury style bui...  2008   Custom Build   \n",
       "\n",
       "                      Modell                 Klasse   Länge Treibstoff  \\\n",
       "0          Baarda Zeegrundel     Lastkahnsegelboote    900m     Diesel   \n",
       "1                       2800  Segelboote mit Kajüte     83m     Diesel   \n",
       "2           Classic Schooner             Slup Boote  65,84m     Diesel   \n",
       "3  Van Der Graaf BV Schooner                Schoner  64,50m     Diesel   \n",
       "4                      Gulet           Segelyachten  42,98m     Diesel   \n",
       "\n",
       "                  Rumpfmaterial Rumpfform  HIN Rumpfgarantie  \n",
       "0                         Stahl       NaN  NaN           NaN  \n",
       "1  GFK / Fiberglass / Polyester       NaN  NaN           NaN  \n",
       "2                         Stahl       NaN  NaN           NaN  \n",
       "3                         Stahl       NaN  NaN           NaN  \n",
       "4                          Holz       NaN  NaN           NaN  "
      ]
     },
     "execution_count": 3,
     "metadata": {},
     "output_type": "execute_result"
    }
   ],
   "source": [
    "#Check everything\n",
    "raw_data.head()"
   ]
  },
  {
   "cell_type": "code",
   "execution_count": 4,
   "id": "3461f8c3",
   "metadata": {},
   "outputs": [
    {
     "data": {
      "text/plain": [
       "Index(['Unnamed: 0', 'name', 'price', 'location', 'offerer', 'link', 'id',\n",
       "       'img_url', 'listing_url', 'description', 'Jahr', 'Hersteller', 'Modell',\n",
       "       'Klasse', 'Länge', 'Treibstoff', 'Rumpfmaterial', 'Rumpfform', 'HIN',\n",
       "       'Rumpfgarantie'],\n",
       "      dtype='object')"
      ]
     },
     "execution_count": 4,
     "metadata": {},
     "output_type": "execute_result"
    }
   ],
   "source": [
    "raw_data.columns"
   ]
  },
  {
   "cell_type": "code",
   "execution_count": 5,
   "id": "dfcb2089",
   "metadata": {},
   "outputs": [
    {
     "data": {
      "text/plain": [
       "Index(['Unnamed: 0', 'name', 'price', 'location', 'offerer', 'link', 'id',\n",
       "       'img_url', 'listing_url', 'description', 'year', 'manufacturer',\n",
       "       'model', 'class', 'length', 'fuel', 'hull_material', 'hull_shape',\n",
       "       'hull_id_number', 'hull_warranty'],\n",
       "      dtype='object')"
      ]
     },
     "execution_count": 5,
     "metadata": {},
     "output_type": "execute_result"
    }
   ],
   "source": [
    "#Rename/translate columns \n",
    "raw_data.rename(columns={'Jahr': 'year', 'Hersteller': 'manufacturer', 'Modell': 'model', 'Klasse': 'class', 'Länge': 'length', 'Treibstoff': 'fuel', 'Rumpfmaterial': 'hull_material', 'Rumpfform': 'hull_shape', 'Rumpfgarantie': 'hull_warranty', 'HIN': 'hull_id_number'}, inplace=True)\n",
    "raw_data.columns"
   ]
  },
  {
   "cell_type": "code",
   "execution_count": 6,
   "id": "9a504698",
   "metadata": {},
   "outputs": [
    {
     "name": "stdout",
     "output_type": "stream",
     "text": [
      "['Lastkahnsegelboote' 'Segelboote mit Kajüte' 'Slup Boote' 'Schoner'\n",
      " 'Segelyachten' 'Katamarane' 'Sonstige (Segelboote)'\n",
      " 'Katamarane und Trimarane' 'Klassische Segelboote'\n",
      " 'Racer/ Cruiser Segelboote' 'Decksalon Segelboote' 'Motorsegler (Segel)'\n",
      " 'Kommerzielle Schiffe (Segel)' 'Gulets (Segel)' 'Ketsch Segelboote'\n",
      " 'Daysailers' 'Kutter' 'Racer Segelboote' 'Segelboote mit Center Cockpit'\n",
      " 'Dinghy Segelboote' 'Trimarane' 'Jollen und Jollenkreuzer'\n",
      " 'Strandkatamarane' 'Nicht Spezifizierte (Segelboote)'\n",
      " 'Performance Segelboote']\n"
     ]
    }
   ],
   "source": [
    "print(raw_data['class'].unique())"
   ]
  },
  {
   "cell_type": "code",
   "execution_count": 7,
   "id": "c05d7e0f",
   "metadata": {},
   "outputs": [
    {
     "name": "stdout",
     "output_type": "stream",
     "text": [
      "['Barge sail boat' 'Sailing boats with cabin' 'Sloop boats' 'Cleaner'\n",
      " 'Sailing yachts' 'Catamaran' 'Other (sailboats)'\n",
      " 'Catamarans and trimarans' 'Classic sailboats' 'Racer/cruiser sailboats'\n",
      " 'Deck saloon sailboats' 'Motor glider (sail)' 'Commercial ships (sails)'\n",
      " 'Gulets (Sail)' 'Ketch sailing boats' 'Daysailers' 'Cutter'\n",
      " 'Racer sailboats' 'Sailboats with a center cockpit'\n",
      " 'Dinghy sailing boats' 'Trimming' 'Dinghies and dinghy cruisers'\n",
      " 'Unspecified (Sailboats)' 'Performance sailboats']\n"
     ]
    }
   ],
   "source": [
    "# German to English translation dictionary\n",
    "translation_dict = {\n",
    "    'Lastkahnsegelboote': 'Barge sail boat',\n",
    "    'Segelboote mit Kajüte': 'Sailing boats with cabin',\n",
    "    'Slup Boote': 'Sloop boats',\n",
    "    'Schoner': 'Cleaner',\n",
    "    'Segelyachten': 'Sailing yachts',\n",
    "    'Katamarane': 'Catamaran',\n",
    "    'Sonstige (Segelboote)': 'Other (sailboats)',\n",
    "    'Katamarane und Trimarane': 'Catamarans and trimarans',\n",
    "    'Klassische Segelboote': 'Classic sailboats',\n",
    "    'Racer/ Cruiser Segelboote': 'Racer/cruiser sailboats',\n",
    "    'Decksalon Segelboote': 'Deck saloon sailboats',\n",
    "    'Motorsegler (Segel)': 'Motor glider (sail)',\n",
    "    'Kommerzielle Schiffe (Segel)': 'Commercial ships (sails)',\n",
    "    'Gulets (Segel)': 'Gulets (Sail)',\n",
    "    'Ketsch Segelboote': 'Ketch sailing boats',\n",
    "    'Daysailers': 'Daysailers',\n",
    "    'Kutter': 'Cutter',\n",
    "    'Racer Segelboote': 'Racer sailboats',\n",
    "    'Segelboote mit Center Cockpit': 'Sailboats with a center cockpit',\n",
    "    'Dinghy Segelboote': 'Dinghy sailing boats',\n",
    "    'Trimarane': 'Trimming',\n",
    "    'Jollen und Jollenkreuzer': 'Dinghies and dinghy cruisers',\n",
    "    'Strandkatamarane': 'Catamaran',\n",
    "    'Nicht Spezifizierte (Segelboote)': 'Unspecified (Sailboats)',\n",
    "    'Performance Segelboote': 'Performance sailboats'\n",
    "}\n",
    "\n",
    "# Replace values in the 'class' column\n",
    "raw_data['class'] = raw_data['class'].replace(translation_dict)\n",
    "\n",
    "# Print unique values in the 'class' column after translation\n",
    "print(raw_data['class'].unique())\n"
   ]
  },
  {
   "cell_type": "code",
   "execution_count": 8,
   "id": "f7639c4f",
   "metadata": {},
   "outputs": [
    {
     "data": {
      "text/plain": [
       "array([nan, 'Katamaran', 'Anderes', 'Monohull ', 'Verdränger',\n",
       "       'Halbgleiter', 'Gleiter', 'Trimaran', 'Deep Vee', 'Tunnel'],\n",
       "      dtype=object)"
      ]
     },
     "execution_count": 8,
     "metadata": {},
     "output_type": "execute_result"
    }
   ],
   "source": [
    "raw_data['hull_shape'].unique()"
   ]
  },
  {
   "cell_type": "code",
   "execution_count": 9,
   "id": "cd72d741",
   "metadata": {},
   "outputs": [
    {
     "name": "stdout",
     "output_type": "stream",
     "text": [
      "[nan 'Catamaran' 'Other' 'Monohull' 'Displacement' 'Semi-displacement'\n",
      " 'Planing' 'Trimaran' 'Deep Vee' 'Tunnel']\n"
     ]
    }
   ],
   "source": [
    "# German to English translation dictionary for hull shapes\n",
    "hull_shape_translation_dict = {\n",
    "    'Katamaran': 'Catamaran',\n",
    "    'Anderes': 'Other',\n",
    "    'Monohull ': 'Monohull',\n",
    "    'Verdränger': 'Displacement',\n",
    "    'Halbgleiter': 'Semi-displacement',\n",
    "    'Gleiter': 'Planing',\n",
    "    'Trimaran': 'Trimaran',\n",
    "    'Deep Vee': 'Deep Vee',\n",
    "    'Tunnel': 'Tunnel'\n",
    "}\n",
    "\n",
    "# Replace values in the 'hull_shape' column\n",
    "raw_data['hull_shape'] = raw_data['hull_shape'].replace(hull_shape_translation_dict)\n",
    "\n",
    "# Print unique values in the 'hull_shape' column after translation\n",
    "print(raw_data['hull_shape'].unique())\n"
   ]
  },
  {
   "cell_type": "code",
   "execution_count": 10,
   "id": "7df5f9ba",
   "metadata": {},
   "outputs": [
    {
     "data": {
      "text/plain": [
       "array(['Stahl', 'GFK / Fiberglass / Polyester', 'Holz', 'Komposit',\n",
       "       'Ferrozement', 'Aluminium', 'Anderen Materialien',\n",
       "       'PVC (Kunststoff)'], dtype=object)"
      ]
     },
     "execution_count": 10,
     "metadata": {},
     "output_type": "execute_result"
    }
   ],
   "source": [
    "raw_data['hull_material'].unique()"
   ]
  },
  {
   "cell_type": "code",
   "execution_count": 11,
   "id": "c6598d39",
   "metadata": {},
   "outputs": [
    {
     "name": "stdout",
     "output_type": "stream",
     "text": [
      "['Steel' 'Fiberglass / Polyester' 'Wood' 'Composite' 'Ferro-cement'\n",
      " 'Aluminum' 'Other materials' 'PVC (Plastic)']\n"
     ]
    }
   ],
   "source": [
    "# German to English translation dictionary for hull materials\n",
    "hull_material_translation_dict = {\n",
    "    'Stahl': 'Steel',\n",
    "    'GFK / Fiberglass / Polyester': 'Fiberglass / Polyester',\n",
    "    'Holz': 'Wood',\n",
    "    'Komposit': 'Composite',\n",
    "    'Ferrozement': 'Ferro-cement',\n",
    "    'Aluminium': 'Aluminum',\n",
    "    'Anderen Materialien': 'Other materials',\n",
    "    'PVC (Kunststoff)': 'PVC (Plastic)'\n",
    "}\n",
    "\n",
    "# Replace values in the 'hull_material' column\n",
    "raw_data['hull_material'] = raw_data['hull_material'].replace(hull_material_translation_dict)\n",
    "\n",
    "# Print unique values in the 'hull_material' column after translation\n",
    "print(raw_data['hull_material'].unique())\n"
   ]
  },
  {
   "cell_type": "code",
   "execution_count": 12,
   "id": "5e8badf3",
   "metadata": {},
   "outputs": [
    {
     "data": {
      "text/plain": [
       "array(['Diesel', 'Anderes', nan, 'Elektrisch', 'Benzin'], dtype=object)"
      ]
     },
     "execution_count": 12,
     "metadata": {},
     "output_type": "execute_result"
    }
   ],
   "source": [
    "raw_data['fuel'].unique()"
   ]
  },
  {
   "cell_type": "code",
   "execution_count": 13,
   "id": "8564d48f",
   "metadata": {},
   "outputs": [
    {
     "name": "stdout",
     "output_type": "stream",
     "text": [
      "['Diesel' 'Other' nan 'Electric' 'Gasoline']\n"
     ]
    }
   ],
   "source": [
    "# German to English translation dictionary for fuel types\n",
    "fuel_translation_dict = {\n",
    "    'Diesel': 'Diesel',\n",
    "    'Anderes': 'Other',\n",
    "    'Elektrisch': 'Electric',\n",
    "    'Benzin': 'Gasoline'\n",
    "}\n",
    "\n",
    "# Replace values in the 'fuel' column\n",
    "raw_data['fuel'] = raw_data['fuel'].replace(fuel_translation_dict)\n",
    "\n",
    "# Print unique values in the 'fuel' column after translation\n",
    "print(raw_data['fuel'].unique())\n"
   ]
  },
  {
   "cell_type": "code",
   "execution_count": 16,
   "id": "8b18ff41",
   "metadata": {},
   "outputs": [
    {
     "name": "stdout",
     "output_type": "stream",
     "text": [
      "Translated data saved to translated_data.csv\n"
     ]
    }
   ],
   "source": [
    "# Save the translated data to a new CSV file\n",
    "\n",
    "translated_data_file = 'translated_data.csv'\n",
    "\n",
    "raw_data.to_csv(translated_data_file, index=False)\n",
    "\n",
    "print(f'Translated data saved to {translated_data_file}')"
   ]
  }
 ],
 "metadata": {
  "kernelspec": {
   "display_name": "Python 3 (ipykernel)",
   "language": "python",
   "name": "python3"
  },
  "language_info": {
   "codemirror_mode": {
    "name": "ipython",
    "version": 3
   },
   "file_extension": ".py",
   "mimetype": "text/x-python",
   "name": "python",
   "nbconvert_exporter": "python",
   "pygments_lexer": "ipython3",
   "version": "3.9.13"
  }
 },
 "nbformat": 4,
 "nbformat_minor": 5
}
