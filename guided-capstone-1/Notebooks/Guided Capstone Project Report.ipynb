{
 "cells": [
  {
   "cell_type": "markdown",
   "id": "e871975d",
   "metadata": {},
   "source": [
    "# Guided Capstone Project Report\n",
    "Nestled between Glacier National Park and Flathead National Forest, Big Mountain Resort is uniquely situated to attract skiers and snowboarders of all levels. Despite 105 trails, 11 lifts, 2 T-bars, and a vertical drop of 2,353 ft, Big Mountain Resort leadership has serious decisions to make regarding their new business strategy. \n",
    "    \n",
    "Big Mountain Resort is looking to implement a more data-driven business strategy to select a better value for their ticket price. They need advice on what changes to make in order to either cut costs or support an even higher ticket price. To do this, they need data-backed suggestions regarding cutting operating costs, increasing ticket prices, and further capitalizing on their facilities.\n",
    "\n",
    "Big Mountain Resort has been reviewing potential scenarios for either cutting costs or increasing revenue (from ticket prices). Ticket price is not determined by any set of parameters; the resort is free to set whatever price it likes. However, the resort operates within a market where people pay more for certain facilities, and less for others. Being able to sense how facilities support a given ticket price is valuable business intelligence. This is where the utility of our model comes in.\n",
    "\n",
    "The business has shortlisted some options:\n",
    " - Permanently closing down up to 10 of the least used runs. This doesn't impact any other resort statistics.\n",
    " - Increase the vertical drop by adding a run to a point 150 feet lower down but requiring the installation of an additional chair lift to bring skiers back up, without additional snow making coverage\n",
    " - Same as number 2, but adding 2 acres of snow making cover\n",
    " - Increase the longest run by 0.2 mile to boast 3.5 miles length, requiring an additional snow making coverage of 4 acres\n",
    "The expected number of visitors over the season is 350,000 and, on average, visitors ski for five days. Assume the provided data includes the additional lift that Big Mountain recently installed.\n",
    "\n",
    "**Scenario 1:** Close up to 10 of the least used runs. The number of runs is the only parameter varying.\t\n",
    "According to our modeling, closing one run makes no difference. Closing 2 and 3 successively reduces support for ticket price and so revenue. If Big Mountain closes down 3 runs, it seems they may as well close down 4 or 5 as there's no further loss in ticket price. Increasing the closures down to 6 or more leads to a large drop.\n",
    "\n",
    "**Scenario 2:** In this scenario, Big Mountain is adding a run, increasing the vertical drop by 150 feet, and installing an additional chair lift.\n",
    "This scenario increases support for ticket price by $8.61. Over the season, this could be expected to amount to USD 15,065,471.\n",
    "\n",
    "**Scenario 3:** This scenario is repeating the previous one but adding 2 acres of snow making.\n",
    "This scenario increases support for ticket price by $9.90. Over the season, this could be expected to amount to USD 17,322,717. Such a small increase in the snow making area makes no difference!\n",
    "\n",
    "**Scenario 4:** This scenario calls for increasing the longest run by .2 miles and guaranteeing its snow coverage by adding 4 acres of snow making capability. \n",
    "This model resorted in no difference whatsoever. Although the longest run feature was used in the linear model, the random forest model (the one we chose because of its better performance) only has longest run way down in the feature importance list.\n",
    "\n",
    "## Recommendations\n",
    "The recommendation for Big Mountain Resort is to increase their price by 16.31% with options for either cutting operating costs by closing runs or increasing price by increasing vertical drop, adding acres of snow making, or increasing the longest run. \n",
    "Here are some of the options:\n",
    " - Increasing the vertical drop by 150 ft would increase the ticket price by 10.44% from USD 81 to USD 89.46, resulting in a revenue increase of USD 14,811,594.\n",
    " - Adding 2 acres of snow making would increase the ticket price by 12% from USD 81 to USD 90.75, resulting in a revenue increase of USD 17,068,841.\n",
    " - When it comes to closing up to 10 used runs, our model predicted the following:\n",
    "     - Closing 1 run will have no impact on ticket price or revenue.\n",
    "     - Closing 2 runs reduces support for ticket price and revenue by USD 0.40 and  USD 750,000 respectively.\n",
    "     - Closing down 3 runs has very minimal revenue variance from closing 4 or 5. There is a loss in ticket price and revenue by USD 0.67 and USD 1.250M respectively.\n",
    "     - Closing 10 runs reduces support for ticket price and so revenue by USD 1.71 and USD 3M respectively.\n",
    "\n",
    "Because we don’t know the operating cost per used run, we can’t determine how much cost saving will offset the loss in revenue after closing more than one run.\n",
    "\n",
    "The best scenario for Big Mountain Resort is to increase the vertical drop by 150 ft, add 1 chair lift, add 1 run and add 2 acres of snow making cover. This scenario increases the ticket price by 12% from USD 81 to USD 90.75, resulting in a bottom line increase of USD 15,528,841 (USD 1.54M after deducting operating costs). \n"
   ]
  },
  {
   "cell_type": "code",
   "execution_count": null,
   "id": "61f7f27e",
   "metadata": {},
   "outputs": [],
   "source": []
  }
 ],
 "metadata": {
  "kernelspec": {
   "display_name": "Python 3 (ipykernel)",
   "language": "python",
   "name": "python3"
  },
  "language_info": {
   "codemirror_mode": {
    "name": "ipython",
    "version": 3
   },
   "file_extension": ".py",
   "mimetype": "text/x-python",
   "name": "python",
   "nbconvert_exporter": "python",
   "pygments_lexer": "ipython3",
   "version": "3.9.13"
  }
 },
 "nbformat": 4,
 "nbformat_minor": 5
}
