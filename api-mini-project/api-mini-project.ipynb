{
 "cells": [
  {
   "cell_type": "markdown",
   "id": "29193d45",
   "metadata": {},
   "source": [
    "I added a .env file and a .gitignore so as to not upload the .env file.\n",
    "\n",
    "Your api_key did not work so I used mine\n",
    "\n",
    "I think the code I added answers all the questons.\n",
    "\n",
    "Let me know if this helps"
   ]
  },
  {
   "cell_type": "code",
   "execution_count": 1,
   "id": "42513350",
   "metadata": {},
   "outputs": [],
   "source": [
    "import os\n",
    "from dotenv import load_dotenv"
   ]
  },
  {
   "cell_type": "code",
   "execution_count": 2,
   "id": "48401ca5",
   "metadata": {},
   "outputs": [
    {
     "data": {
      "text/plain": [
       "True"
      ]
     },
     "execution_count": 2,
     "metadata": {},
     "output_type": "execute_result"
    }
   ],
   "source": [
    "load_dotenv()"
   ]
  },
  {
   "cell_type": "code",
   "execution_count": 3,
   "id": "956a1c7b",
   "metadata": {},
   "outputs": [],
   "source": [
    "API_KEY = os.getenv('NASDAQ_API_KEY')"
   ]
  },
  {
   "cell_type": "code",
   "execution_count": 20,
   "id": "a4a425da",
   "metadata": {
    "scrolled": true
   },
   "outputs": [],
   "source": [
    "# print(API_KEY)"
   ]
  },
  {
   "cell_type": "code",
   "execution_count": 5,
   "id": "a8e0b587",
   "metadata": {},
   "outputs": [],
   "source": [
    "import requests"
   ]
  },
  {
   "cell_type": "code",
   "execution_count": null,
   "id": "8421f5e2",
   "metadata": {},
   "outputs": [],
   "source": []
  },
  {
   "cell_type": "code",
   "execution_count": 6,
   "id": "449c5af2",
   "metadata": {},
   "outputs": [
    {
     "data": {
      "text/plain": [
       "{'dataset': {'id': 10095370,\n",
       "  'dataset_code': 'AFX_X',\n",
       "  'database_code': 'FSE',\n",
       "  'name': 'Carl Zeiss Meditec (AFX_X)',\n",
       "  'description': 'Stock Prices for Carl Zeiss Meditec (2020-11-02) from the Frankfurt Stock Exchange.<br><br>Trading System: Xetra<br><br>ISIN: DE0005313704',\n",
       "  'refreshed_at': '2020-12-01T14:48:09.907Z',\n",
       "  'newest_available_date': '2020-12-01',\n",
       "  'oldest_available_date': '2000-06-07',\n",
       "  'column_names': ['Date',\n",
       "   'Open',\n",
       "   'High',\n",
       "   'Low',\n",
       "   'Close',\n",
       "   'Change',\n",
       "   'Traded Volume',\n",
       "   'Turnover',\n",
       "   'Last Price of the Day',\n",
       "   'Daily Traded Units',\n",
       "   'Daily Turnover'],\n",
       "  'frequency': 'daily',\n",
       "  'type': 'Time Series',\n",
       "  'premium': False,\n",
       "  'limit': None,\n",
       "  'transform': None,\n",
       "  'column_index': None,\n",
       "  'start_date': '2012-09-20',\n",
       "  'end_date': '2012-09-21',\n",
       "  'data': [['2012-09-21',\n",
       "    18.56,\n",
       "    18.85,\n",
       "    18.45,\n",
       "    18.8,\n",
       "    None,\n",
       "    63044.0,\n",
       "    1174415.0,\n",
       "    None,\n",
       "    None,\n",
       "    None],\n",
       "   ['2012-09-20',\n",
       "    18.39,\n",
       "    18.7,\n",
       "    18.33,\n",
       "    18.56,\n",
       "    None,\n",
       "    37833.0,\n",
       "    702218.0,\n",
       "    None,\n",
       "    None,\n",
       "    None]],\n",
       "  'collapse': None,\n",
       "  'order': None,\n",
       "  'database_id': 6129}}"
      ]
     },
     "execution_count": 6,
     "metadata": {},
     "output_type": "execute_result"
    }
   ],
   "source": [
    "r = requests.get('https://data.nasdaq.com/api/v3/datasets/FSE/AFX_X?start_date=2012-09-20&end_date=2012-09-21&api_key=' + API_KEY)\n",
    "r.json()\n"
   ]
  },
  {
   "cell_type": "code",
   "execution_count": 7,
   "id": "731d2092",
   "metadata": {},
   "outputs": [],
   "source": [
    "# Inspect the JSON structure of the object you created, and take note of how nested it is,\n",
    "# as well as the overall structure\n",
    "r = requests.get('https://data.nasdaq.com/api/v3/datasets/FSE/AFX_X?start_date=2017-01-01&end_date=2017-12-31&api_key=' + API_KEY)\n",
    "r_json = r.json();"
   ]
  },
  {
   "cell_type": "code",
   "execution_count": 10,
   "id": "3f954e69",
   "metadata": {},
   "outputs": [],
   "source": [
    "r_dataset = dict(r.json())\n",
    "\n",
    "r_keys = r_dataset['dataset']['column_names']\n",
    "\n",
    "r_data=r_dataset['dataset']['data']"
   ]
  },
  {
   "cell_type": "code",
   "execution_count": 11,
   "id": "90f6e16c",
   "metadata": {},
   "outputs": [
    {
     "data": {
      "text/plain": [
       "float"
      ]
     },
     "execution_count": 11,
     "metadata": {},
     "output_type": "execute_result"
    }
   ],
   "source": [
    "afx_ld = [ dict (zip(r_keys, i)) for i in r_data ]\n",
    "type(afx_ld[0]['Open'])\n"
   ]
  },
  {
   "cell_type": "code",
   "execution_count": 12,
   "id": "9d52f75a",
   "metadata": {},
   "outputs": [],
   "source": [
    "opens = []\n",
    "for i in range(len(afx_ld)):\n",
    "    if afx_ld[i]['Open'] != None:\n",
    "        tup = (afx_ld[i]['Open'], afx_ld[i]['Date'])\n",
    "        opens.append(tup)"
   ]
  },
  {
   "cell_type": "code",
   "execution_count": 13,
   "id": "d18886d4",
   "metadata": {},
   "outputs": [
    {
     "name": "stdout",
     "output_type": "stream",
     "text": [
      "(53.11, '2017-12-14') (34.0, '2017-01-24')\n"
     ]
    }
   ],
   "source": [
    "hi = max(opens)\n",
    "lo = min(opens)\n",
    "print(hi, lo)"
   ]
  },
  {
   "cell_type": "code",
   "execution_count": 14,
   "id": "f018f08a",
   "metadata": {},
   "outputs": [],
   "source": [
    "change = []\n",
    "for i in range(len(afx_ld)):\n",
    "    if afx_ld[i]['High'] and afx_ld[i]['Low'] != None:\n",
    "        day_change = afx_ld[i]['High'] - afx_ld[i]['Low']\n",
    "        tup = (abs(day_change), afx_ld[i]['Date'], day_change)\n",
    "        change.append(tup)"
   ]
  },
  {
   "cell_type": "code",
   "execution_count": 15,
   "id": "354cd348",
   "metadata": {},
   "outputs": [
    {
     "name": "stdout",
     "output_type": "stream",
     "text": [
      "(2.8100000000000023, '2017-05-11', 2.8100000000000023)\n"
     ]
    }
   ],
   "source": [
    "max_change = max(change)\n",
    "print(max_change)"
   ]
  },
  {
   "cell_type": "code",
   "execution_count": 16,
   "id": "857ea2eb",
   "metadata": {},
   "outputs": [],
   "source": [
    "volume = []\n",
    "days=0\n",
    "for i in range(len(afx_ld)):\n",
    "    if afx_ld[i]['Traded Volume'] != None:\n",
    "        volume.append(afx_ld[i]['Traded Volume'])\n",
    "        days += 1\n",
    "average = sum(volume)/days"
   ]
  },
  {
   "cell_type": "code",
   "execution_count": 17,
   "id": "07aeb0f5",
   "metadata": {},
   "outputs": [
    {
     "data": {
      "text/plain": [
       "89124.33725490196"
      ]
     },
     "execution_count": 17,
     "metadata": {},
     "output_type": "execute_result"
    }
   ],
   "source": [
    "average"
   ]
  },
  {
   "cell_type": "code",
   "execution_count": 18,
   "id": "c0226642",
   "metadata": {},
   "outputs": [],
   "source": [
    "median_vol = []\n",
    "for i in range(len(afx_ld)):\n",
    "    if afx_ld[i]['Traded Volume'] != None:\n",
    "        tup = (afx_ld[i]['Traded Volume'], afx_ld[i]['Date'])\n",
    "        median_vol.append(tup)\n"
   ]
  },
  {
   "cell_type": "code",
   "execution_count": 19,
   "id": "e8fa9a5c",
   "metadata": {},
   "outputs": [
    {
     "name": "stdout",
     "output_type": "stream",
     "text": [
      "(76600.0, '2017-09-27')\n"
     ]
    }
   ],
   "source": [
    "median_vol_srt = sorted(median_vol)\n",
    "median = median_vol_srt[128]\n",
    "print(median)"
   ]
  },
  {
   "cell_type": "code",
   "execution_count": null,
   "id": "6c0d14f7",
   "metadata": {},
   "outputs": [],
   "source": []
  },
  {
   "cell_type": "markdown",
   "id": "465aceef",
   "metadata": {},
   "source": [
    "### End Jeremy Code"
   ]
  },
  {
   "cell_type": "code",
   "execution_count": null,
   "id": "a767ddb6",
   "metadata": {},
   "outputs": [],
   "source": []
  },
  {
   "cell_type": "code",
   "execution_count": null,
   "id": "b45a06b1",
   "metadata": {},
   "outputs": [],
   "source": []
  },
  {
   "cell_type": "code",
   "execution_count": null,
   "id": "419e7397",
   "metadata": {},
   "outputs": [],
   "source": []
  },
  {
   "cell_type": "code",
   "execution_count": 12,
   "id": "d564a98e",
   "metadata": {},
   "outputs": [],
   "source": [
    "url = 'https://data.nasdaq.com/api/v3/datasets/FSE/AFX_X.json?column_index=4&start_date=2017-01-01&end_date=2017-12-31&collapse=monthly&transform=rdiff&api_key=DUsyuyTzzfERSEXWvD4X'"
   ]
  },
  {
   "cell_type": "code",
   "execution_count": null,
   "id": "b4a5aae7",
   "metadata": {},
   "outputs": [],
   "source": []
  },
  {
   "cell_type": "code",
   "execution_count": null,
   "id": "7a15645b",
   "metadata": {},
   "outputs": [],
   "source": []
  },
  {
   "cell_type": "code",
   "execution_count": 13,
   "id": "592e40f5",
   "metadata": {},
   "outputs": [],
   "source": [
    "res = requests.get(url)"
   ]
  },
  {
   "cell_type": "code",
   "execution_count": 25,
   "id": "f473e556",
   "metadata": {},
   "outputs": [
    {
     "name": "stdout",
     "output_type": "stream",
     "text": [
      "<Response [200]>\n"
     ]
    }
   ],
   "source": [
    "print(res)"
   ]
  },
  {
   "cell_type": "code",
   "execution_count": 26,
   "id": "4d67f5bb",
   "metadata": {},
   "outputs": [
    {
     "name": "stdout",
     "output_type": "stream",
     "text": [
      "Response OK\n"
     ]
    }
   ],
   "source": [
    "if res:\n",
    "    print('Response OK')\n",
    "else:\n",
    "    print('Response Failed')"
   ]
  },
  {
   "cell_type": "code",
   "execution_count": 27,
   "id": "b2192dda",
   "metadata": {},
   "outputs": [],
   "source": [
    "#params = dict(key=API_KEY, lang='en-es')"
   ]
  },
  {
   "cell_type": "code",
   "execution_count": 28,
   "id": "5b47ac06",
   "metadata": {},
   "outputs": [],
   "source": [
    "#res = requests.get(url, params=params)"
   ]
  },
  {
   "cell_type": "code",
   "execution_count": 29,
   "id": "ed13c100",
   "metadata": {},
   "outputs": [],
   "source": [
    "#text = res.text"
   ]
  },
  {
   "cell_type": "code",
   "execution_count": 30,
   "id": "ef9536f5",
   "metadata": {},
   "outputs": [],
   "source": [
    "import json"
   ]
  },
  {
   "cell_type": "code",
   "execution_count": 31,
   "id": "9ccbf374",
   "metadata": {},
   "outputs": [],
   "source": [
    "json = res.json()\n",
    "#print(json)"
   ]
  },
  {
   "cell_type": "code",
   "execution_count": 32,
   "id": "90ee0694",
   "metadata": {},
   "outputs": [
    {
     "name": "stdout",
     "output_type": "stream",
     "text": [
      "dataset: {'id': 10095370, 'dataset_code': 'AFX_X', 'database_code': 'FSE', 'name': 'Carl Zeiss Meditec (AFX_X)', 'description': 'Stock Prices for Carl Zeiss Meditec (2020-11-02) from the Frankfurt Stock Exchange.<br><br>Trading System: Xetra<br><br>ISIN: DE0005313704', 'refreshed_at': '2020-12-01T14:48:09.907Z', 'newest_available_date': '2020-12-01', 'oldest_available_date': '2000-06-07', 'column_names': ['Date', 'Close'], 'frequency': 'daily', 'type': 'Time Series', 'premium': False, 'limit': None, 'transform': 'rdiff', 'column_index': 4, 'start_date': '2017-01-01', 'end_date': '2017-12-31', 'data': [['2017-12-31', 0.041448692152917], ['2017-11-30', 0.086101398601399], ['2017-10-31', 0.035997283223908], ['2017-09-30', 0.05417661097852], ['2017-08-31', -0.075055187637969], ['2017-07-31', -0.003080985915493], ['2017-06-30', -0.0091583078935892], ['2017-05-31', 0.099232981783317], ['2017-04-30', 0.04352176088044], ['2017-03-31', -0.02105778648384], ['2017-02-28', 0.18171296296296]], 'collapse': 'monthly', 'order': None, 'database_id': 6129}\n"
     ]
    }
   ],
   "source": [
    "for key, value in json.items():\n",
    "    print(key + ':',value)"
   ]
  },
  {
   "cell_type": "code",
   "execution_count": 33,
   "id": "c91d6a0f",
   "metadata": {},
   "outputs": [],
   "source": [
    "#with open(json) as json_file:\n",
    "    #json_data = json.load(json_file)"
   ]
  },
  {
   "cell_type": "code",
   "execution_count": 34,
   "id": "e5118c6f",
   "metadata": {},
   "outputs": [],
   "source": [
    "json_dict = dict(json)"
   ]
  },
  {
   "cell_type": "code",
   "execution_count": 35,
   "id": "7e996872",
   "metadata": {},
   "outputs": [
    {
     "name": "stdout",
     "output_type": "stream",
     "text": [
      "{'dataset': {'id': 10095370, 'dataset_code': 'AFX_X', 'database_code': 'FSE', 'name': 'Carl Zeiss Meditec (AFX_X)', 'description': 'Stock Prices for Carl Zeiss Meditec (2020-11-02) from the Frankfurt Stock Exchange.<br><br>Trading System: Xetra<br><br>ISIN: DE0005313704', 'refreshed_at': '2020-12-01T14:48:09.907Z', 'newest_available_date': '2020-12-01', 'oldest_available_date': '2000-06-07', 'column_names': ['Date', 'Close'], 'frequency': 'daily', 'type': 'Time Series', 'premium': False, 'limit': None, 'transform': 'rdiff', 'column_index': 4, 'start_date': '2017-01-01', 'end_date': '2017-12-31', 'data': [['2017-12-31', 0.041448692152917], ['2017-11-30', 0.086101398601399], ['2017-10-31', 0.035997283223908], ['2017-09-30', 0.05417661097852], ['2017-08-31', -0.075055187637969], ['2017-07-31', -0.003080985915493], ['2017-06-30', -0.0091583078935892], ['2017-05-31', 0.099232981783317], ['2017-04-30', 0.04352176088044], ['2017-03-31', -0.02105778648384], ['2017-02-28', 0.18171296296296]], 'collapse': 'monthly', 'order': None, 'database_id': 6129}}\n"
     ]
    }
   ],
   "source": [
    "print(json_dict)"
   ]
  },
  {
   "cell_type": "code",
   "execution_count": 36,
   "id": "6846463d",
   "metadata": {
    "scrolled": true
   },
   "outputs": [],
   "source": [
    "#for k in dict.keys():\n",
    "    #print(k + ': ', dict[k])"
   ]
  },
  {
   "cell_type": "code",
   "execution_count": 38,
   "id": "8cbc5f59",
   "metadata": {},
   "outputs": [
    {
     "ename": "TypeError",
     "evalue": "'>' not supported between instances of 'str' and 'int'",
     "output_type": "error",
     "traceback": [
      "\u001b[0;31m---------------------------------------------------------------------------\u001b[0m",
      "\u001b[0;31mTypeError\u001b[0m                                 Traceback (most recent call last)",
      "\u001b[0;32m/var/folders/fq/s_s9wfvx1lxdyjggf2hcjtlc0000gn/T/ipykernel_65276/4239551890.py\u001b[0m in \u001b[0;36m<module>\u001b[0;34m\u001b[0m\n\u001b[0;32m----> 1\u001b[0;31m \u001b[0mmax_2017\u001b[0m \u001b[0;34m=\u001b[0m \u001b[0;34m{\u001b[0m\u001b[0mkey\u001b[0m\u001b[0;34m:\u001b[0m \u001b[0mmax\u001b[0m\u001b[0;34m(\u001b[0m\u001b[0mval\u001b[0m\u001b[0;34m.\u001b[0m\u001b[0mvalues\u001b[0m\u001b[0;34m(\u001b[0m\u001b[0;34m)\u001b[0m\u001b[0;34m)\u001b[0m \u001b[0;32mfor\u001b[0m \u001b[0mkey\u001b[0m\u001b[0;34m,\u001b[0m \u001b[0mval\u001b[0m \u001b[0;32min\u001b[0m \u001b[0mjson_dict\u001b[0m\u001b[0;34m.\u001b[0m\u001b[0mitems\u001b[0m\u001b[0;34m(\u001b[0m\u001b[0;34m)\u001b[0m\u001b[0;34m}\u001b[0m\u001b[0;34m\u001b[0m\u001b[0;34m\u001b[0m\u001b[0m\n\u001b[0m",
      "\u001b[0;32m/var/folders/fq/s_s9wfvx1lxdyjggf2hcjtlc0000gn/T/ipykernel_65276/4239551890.py\u001b[0m in \u001b[0;36m<dictcomp>\u001b[0;34m(.0)\u001b[0m\n\u001b[0;32m----> 1\u001b[0;31m \u001b[0mmax_2017\u001b[0m \u001b[0;34m=\u001b[0m \u001b[0;34m{\u001b[0m\u001b[0mkey\u001b[0m\u001b[0;34m:\u001b[0m \u001b[0mmax\u001b[0m\u001b[0;34m(\u001b[0m\u001b[0mval\u001b[0m\u001b[0;34m.\u001b[0m\u001b[0mvalues\u001b[0m\u001b[0;34m(\u001b[0m\u001b[0;34m)\u001b[0m\u001b[0;34m)\u001b[0m \u001b[0;32mfor\u001b[0m \u001b[0mkey\u001b[0m\u001b[0;34m,\u001b[0m \u001b[0mval\u001b[0m \u001b[0;32min\u001b[0m \u001b[0mjson_dict\u001b[0m\u001b[0;34m.\u001b[0m\u001b[0mitems\u001b[0m\u001b[0;34m(\u001b[0m\u001b[0;34m)\u001b[0m\u001b[0;34m}\u001b[0m\u001b[0;34m\u001b[0m\u001b[0;34m\u001b[0m\u001b[0m\n\u001b[0m",
      "\u001b[0;31mTypeError\u001b[0m: '>' not supported between instances of 'str' and 'int'"
     ]
    }
   ],
   "source": [
    "max_2017 = {key: max(val.values()) for key, val in json_dict.items()}"
   ]
  },
  {
   "cell_type": "code",
   "execution_count": null,
   "id": "a8a0d3da",
   "metadata": {},
   "outputs": [],
   "source": [
    "print(max(json_dict['Open']))"
   ]
  },
  {
   "cell_type": "code",
   "execution_count": null,
   "id": "9eadeb94",
   "metadata": {},
   "outputs": [],
   "source": []
  }
 ],
 "metadata": {
  "kernelspec": {
   "display_name": "Python 3 (ipykernel)",
   "language": "python",
   "name": "python3"
  },
  "language_info": {
   "codemirror_mode": {
    "name": "ipython",
    "version": 3
   },
   "file_extension": ".py",
   "mimetype": "text/x-python",
   "name": "python",
   "nbconvert_exporter": "python",
   "pygments_lexer": "ipython3",
   "version": "3.8.8"
  }
 },
 "nbformat": 4,
 "nbformat_minor": 5
}
